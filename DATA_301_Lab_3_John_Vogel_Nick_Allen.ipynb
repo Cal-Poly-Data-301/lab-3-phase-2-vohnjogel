{
  "nbformat": 4,
  "nbformat_minor": 0,
  "metadata": {
    "kernelspec": {
      "display_name": "Python 3",
      "language": "python",
      "name": "python3"
    },
    "language_info": {
      "codemirror_mode": {
        "name": "ipython",
        "version": 3
      },
      "file_extension": ".py",
      "mimetype": "text/x-python",
      "name": "python",
      "nbconvert_exporter": "python",
      "pygments_lexer": "ipython3",
      "version": "3.6.8"
    },
    "colab": {
      "name": "DATA 301 Lab 3 - John Vogel Nick Allen",
      "provenance": [],
      "collapsed_sections": [],
      "include_colab_link": true
    }
  },
  "cells": [
    {
      "cell_type": "markdown",
      "metadata": {
        "id": "view-in-github",
        "colab_type": "text"
      },
      "source": [
        "<a href=\"https://colab.research.google.com/github/vohnjogel/lab-3-phase-2-vohnjogel/blob/main/DATA_301_Lab_3_John_Vogel_Nick_Allen.ipynb\" target=\"_parent\"><img src=\"https://colab.research.google.com/assets/colab-badge.svg\" alt=\"Open In Colab\"/></a>"
      ]
    },
    {
      "cell_type": "markdown",
      "metadata": {
        "id": "D26Xw4A0OIcR"
      },
      "source": [
        "# Retrieval Practice and Learning\n",
        "\n",
        "What is the most effective way to learn a subject? Many students focus exclusively on the _encoding_ process---that is, how to get the knowledge into memory in the first place. For example, taking notes is an activity for encoding knowledge.\n",
        "\n",
        "_Retrieval_, on the other hand, is the process of reconstructing that knowledge from memory. [Karpicke and Blunt](http://science.sciencemag.org/content/331/6018/772) (2011) demonstrated that _retrieval_ is more effective for learning than activites designed to promote effective encoding. They conducted an experiment in which subjects had to learn about sea otters by reading a passage. Subjects were randomly assigned to one of two conditions: some were instructed to create a [concept map](https://en.wikipedia.org/wiki/Concept_map) as they read the passage, while others were instructed to practice retrieval (i.e., read the passage, recall as much as they could, read the text again, and recall again). The two main measurements they recorded were:\n",
        "\n",
        "1. each subject's score on a follow-up learning test one week later\n",
        "2. each subject's _prediction_ of how well they would do on that test\n",
        "\n",
        "In this lab, you will analyze data from a _replication_ of Karpicke and Blunt's experiment, conducted by Buttrick _et al_.\n",
        "- The data file is here: https://dlsun.github.io/pods/data/KarpickeBlunt2011Replication/data.csv.\n",
        "- The codebook (explaining what the variables mean) is here: https://dlsun.github.io/pods/data/KarpickeBlunt2011Replication/codebook.csv."
      ]
    },
    {
      "cell_type": "code",
      "metadata": {
        "id": "11XV7qKfOIcU"
      },
      "source": [
        "import pandas as pd\n",
        "df_data = pd.read_csv('https://dlsun.github.io/pods/data/KarpickeBlunt2011Replication/data.csv')\n",
        "df_code = pd.read_csv('https://dlsun.github.io/pods/data/KarpickeBlunt2011Replication/codebook.csv')"
      ],
      "execution_count": 1,
      "outputs": []
    },
    {
      "cell_type": "markdown",
      "metadata": {
        "id": "UfEXABNbOIca"
      },
      "source": [
        "# Question 1\n",
        "\n",
        "Which group felt like they learned more: the subjects who made concept maps or the ones who practiced retrieval? (Or are they about the same?) Make an appropriate visualization and explain what you see.\n",
        "\n",
        "_Hint:_ Use the variable `PR.2`, which contains the participants' predictions of how well they would do on a test one week later."
      ]
    },
    {
      "cell_type": "code",
      "metadata": {
        "id": "50TS8ZF1OIcb",
        "colab": {
          "base_uri": "https://localhost:8080/",
          "height": 338
        },
        "outputId": "47b31593-59bf-4cfb-a133-0086b4f3873b"
      },
      "source": [
        "df_data.groupby('Condition')['PR.2'].plot.hist(\n",
        "    density=True,\n",
        "    alpha=0.5,\n",
        "    legend=True\n",
        ")"
      ],
      "execution_count": 2,
      "outputs": [
        {
          "output_type": "execute_result",
          "data": {
            "text/plain": [
              "Condition\n",
              "Concept      AxesSubplot(0.125,0.125;0.775x0.755)\n",
              "Retrieval    AxesSubplot(0.125,0.125;0.775x0.755)\n",
              "Name: PR.2, dtype: object"
            ]
          },
          "metadata": {},
          "execution_count": 2
        },
        {
          "output_type": "display_data",
          "data": {
            "image/png": "[encoded data removed]",
            "text/plain": [
              "<Figure size 432x288 with 1 Axes>"
            ]
          },
          "metadata": {
            "needs_background": "light"
          }
        }
      ]
    },
    {
      "cell_type": "markdown",
      "metadata": {
        "id": "P6gqpWXLOIcg"
      },
      "source": [
        "**It looks like participants who used the concept map method were more confident than those who used the retrieval method.**"
      ]
    },
    {
      "cell_type": "markdown",
      "metadata": {
        "id": "FiFkblz8OIch"
      },
      "source": [
        "# Question 2\n",
        "\n",
        "Which group actually did better on the follow-up learning test one week later? Make an appropriate visualization and explain what you see.\n",
        "\n",
        "_Hint:_ Don't ask which variable you should use. That is for you to figure out. Read the codebook carefully (consulting the [original paper](http://science.sciencemag.org/content/331/6018/772), if necessary), make an informed decision, and explain your choice."
      ]
    },
    {
      "cell_type": "code",
      "metadata": {
        "id": "Th_st4KzOIci",
        "colab": {
          "base_uri": "https://localhost:8080/",
          "height": 338
        },
        "outputId": "bea3c987-712f-433b-f63a-74c05a9c2f50"
      },
      "source": [
        "df_data.groupby('Condition')['TS.avg'].plot.hist(\n",
        "    density=True,\n",
        "    alpha=0.5,\n",
        "    legend=True\n",
        ")"
      ],
      "execution_count": 3,
      "outputs": [
        {
          "output_type": "execute_result",
          "data": {
            "text/plain": [
              "Condition\n",
              "Concept      AxesSubplot(0.125,0.125;0.775x0.755)\n",
              "Retrieval    AxesSubplot(0.125,0.125;0.775x0.755)\n",
              "Name: TS.avg, dtype: object"
            ]
          },
          "metadata": {},
          "execution_count": 3
        },
        {
          "output_type": "display_data",
          "data": {
            "image/png": "[encoded data removed]",
            "text/plain": [
              "<Figure size 432x288 with 1 Axes>"
            ]
          },
          "metadata": {
            "needs_background": "light"
          }
        }
      ]
    },
    {
      "cell_type": "markdown",
      "metadata": {
        "id": "t3d928CqOIcn"
      },
      "source": [
        "**I used TS.avg as the test score metric, since this seems to be the average score on the follow-up test awarded by two separate graders.  If this is the correct variable, participants using the retrieval method actually scored better than those using the  concept map method, contradicting the participants' predictions.**"
      ]
    },
    {
      "cell_type": "markdown",
      "metadata": {
        "id": "e_fjtBzsOIco"
      },
      "source": [
        "# Question 3\n",
        "\n",
        "How good were subjects at predicting how well they would do on the follow-up learning test? Calculate a measure of how well subjects predicted their performance and interpret the value in context. (Optionally, you may want to include a visualization as well.)"
      ]
    },
    {
      "cell_type": "code",
      "metadata": {
        "id": "Q-gKgg8IOIcp",
        "colab": {
          "base_uri": "https://localhost:8080/",
          "height": 338
        },
        "outputId": "5b52db33-1ecd-4f83-c218-8bbfc4cd7110"
      },
      "source": [
        "df_data['pred_err'] = df_data['TS.avg'] - df_data['PR.2']\n",
        "df_data.groupby('Condition')['pred_err'].plot.hist(\n",
        "    density=True,\n",
        "    alpha=0.5,\n",
        "    legend=True\n",
        ")"
      ],
      "execution_count": 4,
      "outputs": [
        {
          "output_type": "execute_result",
          "data": {
            "text/plain": [
              "Condition\n",
              "Concept      AxesSubplot(0.125,0.125;0.775x0.755)\n",
              "Retrieval    AxesSubplot(0.125,0.125;0.775x0.755)\n",
              "Name: pred_err, dtype: object"
            ]
          },
          "metadata": {},
          "execution_count": 4
        },
        {
          "output_type": "display_data",
          "data": {
            "image/png": "[encoded data removed]",
            "text/plain": [
              "<Figure size 432x288 with 1 Axes>"
            ]
          },
          "metadata": {
            "needs_background": "light"
          }
        }
      ]
    },
    {
      "cell_type": "markdown",
      "metadata": {
        "id": "rfa6vegKOIcv"
      },
      "source": [
        "**The retrievel group was better at predicting the follow-up test scores than the concept group. The concept group tended to score much lower than they predicted.**"
      ]
    },
    {
      "cell_type": "markdown",
      "metadata": {
        "id": "SypkJtWNOIc4"
      },
      "source": [
        "## Submission Instructions\n",
        "\n",
        "- Copy this notebook to your own Drive, if you have not already.\n",
        "- Restart this notebook and run the cells from beginning to end. \n",
        "  - Go to Runtime > Restart and Run All.\n",
        "- Rename this notebook by clicking on \"DATA 301 Lab 3 - YOUR NAMES HERE\" at the very top of this page. Replace \"YOUR NAMES HERE\" with the first and last names of you (and your partner for Phase 2).\n",
        "- Get the link to your notebook:\n",
        "  - Click on \"Share\" at the top-right. \n",
        "  - Change the settings to \"Anyone with the link can view\". \n",
        "  - Copy the sharing link into Canvas."
      ]
    }
  ]
}